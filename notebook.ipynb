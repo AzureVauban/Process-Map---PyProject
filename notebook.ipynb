{
 "cells": [
  {
   "cell_type": "code",
   "execution_count": 99,
   "metadata": {},
   "outputs": [
    {
     "name": "stdout",
     "output_type": "stream",
     "text": [
      "Dl]8CQ4*LP|QxzJ(>=Sc\n",
      "Rp/l~UIa*@/jZ?W80(cU\n",
      "rK,5k=)b?y-\n",
      "gr6OPJjpd5com\n",
      "q$gOV?{J.NjI)I)C\n",
      "=sNG7,[jr~P^L>W*B%R\n",
      "SCpzl[Y9:d]/\n",
      "gtu7ayEn2x^`_z\n",
      "4)-p-$C*#?<\n",
      "&949tt/i}^5\n"
     ]
    }
   ],
   "source": [
    "import random\n",
    "def chat_randomly_generate_string(size: int = None,\n",
    "                                  seed: int = None,\n",
    "                                  include_lowercase: bool = True,\n",
    "                                  include_uppercase: bool = True,\n",
    "                                  include_numbers: bool = True,\n",
    "                                  include_special: bool = False) -> str:\n",
    "    \"\"\"Generate a random string with the specified character options and length.\"\"\"\n",
    "    # Set default size if not provided\n",
    "    if size is None:\n",
    "        size = random.randint(5, 10)\n",
    "\n",
    "    # Validate size argument\n",
    "    if not isinstance(size, int) or size < 1:\n",
    "        raise ValueError(\"Size must be a positive integer\")\n",
    "\n",
    "    # Set default seed if not provided\n",
    "    if seed is not None:\n",
    "        random.seed(seed)\n",
    "\n",
    "    # Build list of valid characters\n",
    "    choices = []\n",
    "    if include_lowercase:\n",
    "        choices += 'abcdefghijklmnopqrstuvwxyz'\n",
    "    if include_uppercase:\n",
    "        choices += 'ABCDEFGHIJKLMNOPQRSTUVWXYZ'\n",
    "    if include_numbers:\n",
    "        choices += '1234567890'\n",
    "    if include_special:\n",
    "        choices += '!@#$%^&*()_+-=[]{}|:;<>,.?/~`'\n",
    "\n",
    "    # Generate random string\n",
    "    return_str = ''\n",
    "    for _ in range(size):\n",
    "        return_str += random.choice(choices)\n",
    "    return return_str\n",
    "\n",
    "if __name__ == '__main__':\n",
    "    for _ in range(10):\n",
    "        print(chat_randomly_generate_string(include_lowercase=True,\n",
    "                                            include_numbers=True,\n",
    "                                            include_special=True,\n",
    "                                            include_uppercase=True,\n",
    "                                            size=random.randint(10,20)))"
   ]
  }
 ],
 "metadata": {
  "kernelspec": {
   "display_name": "Python 3",
   "language": "python",
   "name": "python3"
  },
  "language_info": {
   "codemirror_mode": {
    "name": "ipython",
    "version": 3
   },
   "file_extension": ".py",
   "mimetype": "text/x-python",
   "name": "python",
   "nbconvert_exporter": "python",
   "pygments_lexer": "ipython3",
   "version": "3.11.0"
  },
  "orig_nbformat": 4,
  "vscode": {
   "interpreter": {
    "hash": "ea9f1ea4e2822e9a2b13000c29703cdd3b28ef40337610553dba2f6dca0f02e5"
   }
  }
 },
 "nbformat": 4,
 "nbformat_minor": 2
}
