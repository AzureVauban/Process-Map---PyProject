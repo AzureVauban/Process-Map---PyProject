{
 "cells": [
  {
   "cell_type": "code",
   "execution_count": 2,
   "metadata": {},
   "outputs": [
    {
     "ename": "SyntaxError",
     "evalue": "incomplete input (2133473448.py, line 37)",
     "output_type": "error",
     "traceback": [
      "\u001b[1;36m  Cell \u001b[1;32mIn [2], line 37\u001b[1;36m\u001b[0m\n\u001b[1;33m    if __name__ == '__main__':\u001b[0m\n\u001b[1;37m                              ^\u001b[0m\n\u001b[1;31mSyntaxError\u001b[0m\u001b[1;31m:\u001b[0m incomplete input\n"
     ]
    }
   ],
   "source": [
    "def chat_randomly_generate_string(size: int = None,\n",
    "                                  seed: int = None,\n",
    "                                  include_lowercase: bool = True,\n",
    "                                  include_uppercase: bool = True,\n",
    "                                  include_numbers: bool = True,\n",
    "                                  include_special: bool = False) -> str:\n",
    "    \"\"\"Generate a random string with the specified character options and length.\"\"\"\n",
    "    # Set default size if not provided\n",
    "    if size is None:\n",
    "        size = random.randint(5, 10)\n",
    "\n",
    "    # Validate size argument\n",
    "    if not isinstance(size, int) or size < 1:\n",
    "        raise ValueError(\"Size must be a positive integer\")\n",
    "\n",
    "    # Set default seed if not provided\n",
    "    if seed is not None:\n",
    "        random.seed(seed)\n",
    "\n",
    "    # Build list of valid characters\n",
    "    choices = []\n",
    "    if include_lowercase:\n",
    "        choices += 'abcdefghijklmnopqrstuvwxyz'\n",
    "    if include_uppercase:\n",
    "        choices += 'ABCDEFGHIJKLMNOPQRSTUVWXYZ'\n",
    "    if include_numbers:\n",
    "        choices += '1234567890'\n",
    "    if include_special:\n",
    "        choices += '!@#$%^&*()_+-=[]{}|:;<>,.?/~`'\n",
    "\n",
    "    # Generate random string\n",
    "    return_str = ''\n",
    "    for _ in range(size):\n",
    "        return_str += random.choice(choices)\n",
    "    return return_str\n",
    "\n",
    "if __name__ == '__main__':\n",
    "    for + in"
   ]
  }
 ],
 "metadata": {
  "kernelspec": {
   "display_name": "Python 3",
   "language": "python",
   "name": "python3"
  },
  "language_info": {
   "codemirror_mode": {
    "name": "ipython",
    "version": 3
   },
   "file_extension": ".py",
   "mimetype": "text/x-python",
   "name": "python",
   "nbconvert_exporter": "python",
   "pygments_lexer": "ipython3",
   "version": "3.11.0"
  },
  "orig_nbformat": 4,
  "vscode": {
   "interpreter": {
    "hash": "ea9f1ea4e2822e9a2b13000c29703cdd3b28ef40337610553dba2f6dca0f02e5"
   }
  }
 },
 "nbformat": 4,
 "nbformat_minor": 2
}
